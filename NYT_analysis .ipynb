{
 "cells": [
  {
   "cell_type": "code",
   "execution_count": 1,
   "metadata": {
    "collapsed": false
   },
   "outputs": [],
   "source": [
    "from nytimesarticle import articleAPI\n",
    "api = articleAPI('Your Key Here')"
   ]
  },
  {
   "cell_type": "code",
   "execution_count": 9,
   "metadata": {
    "collapsed": false
   },
   "outputs": [],
   "source": [
    "articles = api.search( q = 'H1B',fq = {'headline':'H1B', 'source':['Reuters','AP', 'The New York Times']}, begin_date = 20170310 )"
   ]
  },
  {
   "cell_type": "code",
   "execution_count": 10,
   "metadata": {
    "collapsed": false
   },
   "outputs": [
    {
     "data": {
      "text/plain": [
       "{u'copyright': u'Copyright (c) 2013 The New York Times Company.  All Rights Reserved.',\n",
       " u'response': {u'docs': [{u'_id': u'58e2ad657c459f24986d8246',\n",
       "    u'abstract': None,\n",
       "    u'blog': [],\n",
       "    u'byline': {u'organization': u'REUTERS',\n",
       "     u'original': u'By REUTERS',\n",
       "     u'person': []},\n",
       "    u'document_type': u'article',\n",
       "    u'headline': {u'main': u'Homeland Security Announces Steps Against H1B Visa Fraud',\n",
       "     u'print_headline': u'Homeland Security Announces Steps Against H1B Visa Fraud'},\n",
       "    u'keywords': [],\n",
       "    u'lead_paragraph': u\"The U.S. Department of Homeland Security announced steps on Monday to prevent the fraudulent use of H1B visas, used by employers to bring in specialized foreign workers temporarily, which appeared to fall short of President Donald Trump's campaign promises to overhaul the program.\",\n",
       "    u'multimedia': [],\n",
       "    u'news_desk': u'None',\n",
       "    u'print_page': 0,\n",
       "    u'pub_date': u'2017-04-03T20:15:29+0000',\n",
       "    u'section_name': u'Technology',\n",
       "    u'slideshow_credits': None,\n",
       "    u'snippet': u\"The U.S. Department of Homeland Security announced steps on Monday to prevent the fraudulent use of H1B visas, used by employers to bring in specialized foreign workers temporarily, which appeared to fall short of President Donald Trump's campaign...\",\n",
       "    u'source': u'Reuters',\n",
       "    u'subsection_name': None,\n",
       "    u'type_of_material': u'News',\n",
       "    u'web_url': u'https://www.nytimes.com/reuters/2017/04/03/technology/03reuters-usa-immigration-visas.html',\n",
       "    u'word_count': 436}],\n",
       "  u'meta': {u'hits': 1, u'offset': 0, u'time': 12}},\n",
       " u'status': u'OK'}"
      ]
     },
     "execution_count": 10,
     "metadata": {},
     "output_type": "execute_result"
    }
   ],
   "source": [
    "articles"
   ]
  },
  {
   "cell_type": "code",
   "execution_count": null,
   "metadata": {
    "collapsed": true
   },
   "outputs": [],
   "source": []
  }
 ],
 "metadata": {
  "anaconda-cloud": {},
  "kernelspec": {
   "display_name": "Python [default]",
   "language": "python",
   "name": "python2"
  },
  "language_info": {
   "codemirror_mode": {
    "name": "ipython",
    "version": 2
   },
   "file_extension": ".py",
   "mimetype": "text/x-python",
   "name": "python",
   "nbconvert_exporter": "python",
   "pygments_lexer": "ipython2",
   "version": "2.7.12"
  }
 },
 "nbformat": 4,
 "nbformat_minor": 1
}
