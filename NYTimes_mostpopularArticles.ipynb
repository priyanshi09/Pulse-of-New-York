{
 "cells": [
  {
   "cell_type": "markdown",
   "metadata": {},
   "source": [
    "### collecting NewYork Time Data using api for the most popular NYTimes articles"
   ]
  },
  {
   "cell_type": "code",
   "execution_count": 1,
   "metadata": {
    "collapsed": true
   },
   "outputs": [],
   "source": [
    "import urllib2, os\n",
    "import json"
   ]
  },
  {
   "cell_type": "code",
   "execution_count": 2,
   "metadata": {
    "collapsed": false
   },
   "outputs": [],
   "source": [
    "#!head myapi.json # to read the header of json file\n",
    "json_data = open(\"myapi.json\").read() #reading api key from myapi.json\n",
    "myAPI = json.loads(json_data)\n",
    "key = str(myAPI[\"myAPI\"])"
   ]
  },
  {
   "cell_type": "code",
   "execution_count": null,
   "metadata": {
    "collapsed": true
   },
   "outputs": [],
   "source": []
  },
  {
   "cell_type": "code",
   "execution_count": 3,
   "metadata": {
    "collapsed": false
   },
   "outputs": [
    {
     "data": {
      "text/plain": [
       "[u'status', u'response', u'copyright']"
      ]
     },
     "execution_count": 3,
     "metadata": {},
     "output_type": "execute_result"
    }
   ],
   "source": [
    "# Setting the begin data and end date\n",
    "request_string = \"http://api.nytimes.com/svc/search/v2/articlesearch.json?begin_date=\" + \"20170411\" + \"&end_date=\" + \"20170412\" + \"&page=\" + str(2) + \"&api-key=\" + key\n",
    "response = urllib2.urlopen(request_string)\n",
    "content = response.read()\n",
    "data = json.loads(content)\n",
    "data.keys()"
   ]
  },
  {
   "cell_type": "code",
   "execution_count": 7,
   "metadata": {
    "collapsed": false
   },
   "outputs": [
    {
     "name": "stdout",
     "output_type": "stream",
     "text": [
      "10\n"
     ]
    },
    {
     "data": {
      "text/plain": [
       "{u'_id': u'58eeb1ca95d0e024b586b25c',\n",
       " u'abstract': None,\n",
       " u'blog': [],\n",
       " u'byline': {u'original': u'By JOHN WILLIAMS',\n",
       "  u'person': [{u'firstname': u'John',\n",
       "    u'lastname': u'WILLIAMS',\n",
       "    u'organization': u'',\n",
       "    u'rank': 1,\n",
       "    u'role': u'reported'}]},\n",
       " u'document_type': u'article',\n",
       " u'headline': {u'content_kicker': u'Q. & A.',\n",
       "  u'kicker': u'Q. & A.',\n",
       "  u'main': u'Tell Us 5 Things About Your Book: 21 Great Buildings Throughout History',\n",
       "  u'print_headline': u'Tell Us 5 Things About Your Book: 21 Great Buildings Throughout History'},\n",
       " u'keywords': [{u'isMajor': u'N',\n",
       "   u'name': u'subject',\n",
       "   u'rank': 3,\n",
       "   u'value': u'Writing and Writers'},\n",
       "  {u'isMajor': u'N',\n",
       "   u'name': u'subject',\n",
       "   u'rank': 4,\n",
       "   u'value': u'Books and Literature'}],\n",
       " u'lead_paragraph': u'In \\u201cFallen Glory,\\u201d James Crawford provides a tour from the Tower of Babel to the World Trade Center.',\n",
       " u'multimedia': [{u'height': 75,\n",
       "   u'legacy': {u'thumbnail': u'images/2017/04/12/books/12fallen/12fallen-thumbStandard.jpg',\n",
       "    u'thumbnailheight': 75,\n",
       "    u'thumbnailwidth': 75},\n",
       "   u'rank': 0,\n",
       "   u'subtype': u'thumbnail',\n",
       "   u'type': u'image',\n",
       "   u'url': u'images/2017/04/12/books/12fallen/12fallen-thumbStandard.jpg',\n",
       "   u'width': 75},\n",
       "  {u'height': 893,\n",
       "   u'legacy': {u'xlarge': u'images/2017/04/12/books/12fallen/12fallen-articleLarge.jpg',\n",
       "    u'xlargeheight': 893,\n",
       "    u'xlargewidth': 600},\n",
       "   u'rank': 0,\n",
       "   u'subtype': u'xlarge',\n",
       "   u'type': u'image',\n",
       "   u'url': u'images/2017/04/12/books/12fallen/12fallen-articleLarge.jpg',\n",
       "   u'width': 600},\n",
       "  {u'height': 126,\n",
       "   u'legacy': {u'wide': u'images/2017/04/12/books/12fallen/12fallen-thumbWide.jpg',\n",
       "    u'wideheight': 126,\n",
       "    u'widewidth': 190},\n",
       "   u'rank': 0,\n",
       "   u'subtype': u'wide',\n",
       "   u'type': u'image',\n",
       "   u'url': u'images/2017/04/12/books/12fallen/12fallen-thumbWide.jpg',\n",
       "   u'width': 190}],\n",
       " u'news_desk': u'Culture',\n",
       " u'print_page': 0,\n",
       " u'pub_date': u'2017-04-12T23:01:16+0000',\n",
       " u'section_name': u'Books',\n",
       " u'slideshow_credits': None,\n",
       " u'snippet': u'In \\u201cFallen Glory,\\u201d James Crawford provides a tour from the Tower of Babel to the World Trade Center....',\n",
       " u'source': u'The New York Times',\n",
       " u'subsection_name': None,\n",
       " u'type_of_material': u'Question',\n",
       " u'web_url': u'https://www.nytimes.com/2017/04/12/books/tell-us-5-things-about-your-book-21-great-buildings-throughout-history.html',\n",
       " u'word_count': 940}"
      ]
     },
     "execution_count": 7,
     "metadata": {},
     "output_type": "execute_result"
    }
   ],
   "source": [
    "print len(data[\"response\"]['docs'])\n",
    "data[\"response\"]['docs'][6]"
   ]
  },
  {
   "cell_type": "code",
   "execution_count": null,
   "metadata": {
    "collapsed": true
   },
   "outputs": [],
   "source": []
  }
 ],
 "metadata": {
  "kernelspec": {
   "display_name": "Python 2",
   "language": "python",
   "name": "python2"
  },
  "language_info": {
   "codemirror_mode": {
    "name": "ipython",
    "version": 2
   },
   "file_extension": ".py",
   "mimetype": "text/x-python",
   "name": "python",
   "nbconvert_exporter": "python",
   "pygments_lexer": "ipython2",
   "version": "2.7.13"
  }
 },
 "nbformat": 4,
 "nbformat_minor": 2
}
